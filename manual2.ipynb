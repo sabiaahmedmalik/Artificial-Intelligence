{
 "cells": [
  {
   "cell_type": "code",
   "execution_count": 6,
   "id": "0a452956",
   "metadata": {},
   "outputs": [
    {
     "name": "stdout",
     "output_type": "stream",
     "text": [
      "Output: Two \n"
     ]
    }
   ],
   "source": [
    "numbers = {\n",
    "    '0': 'Zero', '1': 'One', '2': 'Two', '3': 'Three',\n",
    "    '4': 'Four', '5': 'Five', '6': 'Six',\n",
    "    '7': 'Seven', '8': 'Eight', '9': 'Nine'\n",
    "}\n",
    "\n",
    "num = input(\"\\nEnter a number: \")\n",
    "output = \"\"\n",
    "\n",
    "for digit in num:\n",
    "    if digit in numbers:\n",
    "        output = output + numbers[digit] + \" \"\n",
    "\n",
    "print(\"Output:\", output)\n"
   ]
  },
  {
   "cell_type": "code",
   "execution_count": 5,
   "id": "51ec811a",
   "metadata": {},
   "outputs": [
    {
     "name": "stdout",
     "output_type": "stream",
     "text": [
      "Dictionary of squares: {1: 1, 2: 4, 3: 9, 4: 16, 5: 25, 6: 36, 7: 49}\n"
     ]
    }
   ],
   "source": [
    "num = int(input(\"\\nEnter a number to make square dictionary: \"))\n",
    "square_dict = {}\n",
    "\n",
    "for i in range(1, num + 1):\n",
    "    square_dict[i] = i * i\n",
    "\n",
    "print(\"Dictionary of squares:\", square_dict)\n"
   ]
  },
  {
   "cell_type": "code",
   "execution_count": 4,
   "id": "66c37c06",
   "metadata": {},
   "outputs": [
    {
     "name": "stdout",
     "output_type": "stream",
     "text": [
      "\n",
      "List after removing empty tuples: [('a', 'b'), ('c', 'd')]\n"
     ]
    }
   ],
   "source": [
    "L = [(), ('a', 'b'), (), ('c', 'd')]\n",
    "new_list = []\n",
    "\n",
    "for t in L:\n",
    "    if t != ():\n",
    "        new_list.append(t)\n",
    "\n",
    "print(\"\\nList after removing empty tuples:\", new_list)\n",
    "\n"
   ]
  },
  {
   "cell_type": "code",
   "execution_count": 3,
   "id": "6745fe0d",
   "metadata": {},
   "outputs": [
    {
     "name": "stdout",
     "output_type": "stream",
     "text": [
      "\n",
      "Largest number is: 6\n"
     ]
    }
   ],
   "source": [
    "list1 = [1, 2, 4, 2, 6]\n",
    "largest = list1[0]\n",
    "\n",
    "for n in list1:\n",
    "    if n > largest:\n",
    "        largest = n\n",
    "\n",
    "print(\"\\nLargest number is:\", largest)\n",
    "\n"
   ]
  },
  {
   "cell_type": "code",
   "execution_count": 2,
   "id": "fde91552",
   "metadata": {},
   "outputs": [
    {
     "name": "stdout",
     "output_type": "stream",
     "text": [
      "\n",
      "Sum is: 15\n",
      "Product is: 96\n"
     ]
    }
   ],
   "source": [
    "numbers = (1, 2, 4, 2, 6)\n",
    "sum_num = 0\n",
    "product = 1\n",
    "\n",
    "for n in numbers:\n",
    "    sum_num = sum_num + n\n",
    "    product = product * n\n",
    "\n",
    "print(\"\\nSum is:\", sum_num)\n",
    "print(\"Product is:\", product)\n"
   ]
  },
  {
   "cell_type": "code",
   "execution_count": 1,
   "id": "6b6d7d49",
   "metadata": {},
   "outputs": [
    {
     "name": "stdout",
     "output_type": "stream",
     "text": [
      "\n",
      "Number of strings with same first and last letter: 4\n"
     ]
    }
   ],
   "source": [
    "list1 = ['abc', 'xyz', 'aba', '1221', 'aa', 'xyzzyx']\n",
    "count = 0\n",
    "\n",
    "for word in list1:\n",
    "    if len(word) >= 2 and word[0] == word[-1]:\n",
    "        count = count + 1\n",
    "\n",
    "print(\"\\nNumber of strings with same first and last letter:\", count)\n",
    "\n"
   ]
  }
 ],
 "metadata": {
  "kernelspec": {
   "display_name": "Python 3",
   "language": "python",
   "name": "python3"
  },
  "language_info": {
   "codemirror_mode": {
    "name": "ipython",
    "version": 3
   },
   "file_extension": ".py",
   "mimetype": "text/x-python",
   "name": "python",
   "nbconvert_exporter": "python",
   "pygments_lexer": "ipython3",
   "version": "3.14.0"
  }
 },
 "nbformat": 4,
 "nbformat_minor": 5
}
