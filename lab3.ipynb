{
 "cells": [
  {
   "cell_type": "code",
   "execution_count": 6,
   "id": "41a6cdf2",
   "metadata": {},
   "outputs": [
    {
     "name": "stdout",
     "output_type": "stream",
     "text": [
      "Login successful! 👏\n"
     ]
    }
   ],
   "source": [
    "def login_system(username, password):\n",
    "    correct_user = \"admin\"\n",
    "    correct_pass = \"12345\"\n",
    "    if username == correct_user and password == correct_pass:\n",
    "        print(\"Login successful! 👏\")\n",
    "    else:\n",
    "        print(\"Invalid username or password ❌\")\n",
    "\n",
    "user = input(\"Enter username: \")\n",
    "pw = input(\"Enter password: \")\n",
    "login_system(user, pw)\n"
   ]
  },
  {
   "cell_type": "code",
   "execution_count": 4,
   "id": "fdcbcb73",
   "metadata": {},
   "outputs": [
    {
     "name": "stdout",
     "output_type": "stream",
     "text": [
      "Strings do not match ❌\n"
     ]
    }
   ],
   "source": [
    "def match_strings(s1, s2):\n",
    "    if s1 == s2:\n",
    "        print(\"Strings match ✅\")\n",
    "    else:\n",
    "        print(\"Strings do not match ❌\")\n",
    "\n",
    "str1 = input(\"Enter first string: \")\n",
    "str2 = input(\"Enter second string: \")\n",
    "match_strings(str1, str2)\n"
   ]
  },
  {
   "cell_type": "code",
   "execution_count": 3,
   "id": "e1f318bb",
   "metadata": {},
   "outputs": [
    {
     "name": "stdout",
     "output_type": "stream",
     "text": [
      "Even numbers: [2, 4, 6, 8, 10]\n",
      "Sum: 30\n",
      "Product: 3840\n"
     ]
    }
   ],
   "source": [
    "def show_even_numbers(n):\n",
    "    evens = []\n",
    "    for i in range(2, n*2 + 1, 2):\n",
    "        evens.append(i)\n",
    "    print(\"Even numbers:\", evens)\n",
    "    return evens\n",
    "\n",
    "n = int(input(\"How many even numbers do you want?: \"))\n",
    "even_list = show_even_numbers(n)\n",
    "\n",
    "sum_even = sum(even_list)\n",
    "product_even = 1\n",
    "for i in even_list:\n",
    "    product_even *= i\n",
    "\n",
    "print(\"Sum:\", sum_even)\n",
    "print(\"Product:\", product_even)\n"
   ]
  },
  {
   "cell_type": "code",
   "execution_count": 2,
   "id": "6d06f508",
   "metadata": {},
   "outputs": [
    {
     "name": "stdout",
     "output_type": "stream",
     "text": [
      "Original List: [1, 2, 3, 3, 4, 4, 5, 3, 7, 5]\n",
      "Unique List: [1, 2, 3, 4, 5, 7]\n"
     ]
    }
   ],
   "source": [
    "def unique_list(lst):\n",
    "    unique = []\n",
    "    for x in lst:\n",
    "        if x not in unique:\n",
    "            unique.append(x)\n",
    "    return unique\n",
    "\n",
    "numbers = [1, 2, 3, 3, 4, 4, 5, 3, 7, 5]\n",
    "print(\"Original List:\", numbers)\n",
    "print(\"Unique List:\", unique_list(numbers))\n"
   ]
  },
  {
   "cell_type": "code",
   "execution_count": 1,
   "id": "ee8a5e95",
   "metadata": {},
   "outputs": [
    {
     "name": "stdout",
     "output_type": "stream",
     "text": [
      "Factorial of 3 is: 6\n"
     ]
    }
   ],
   "source": [
    "def factorial(num):\n",
    "    fact = 1\n",
    "    for i in range(1, num + 1):\n",
    "        fact *= i\n",
    "    return fact\n",
    "\n",
    "n = int(input(\"Enter a non-negative number: \"))\n",
    "print(\"Factorial of\", n, \"is:\", factorial(n))\n"
   ]
  }
 ],
 "metadata": {
  "kernelspec": {
   "display_name": ".venv",
   "language": "python",
   "name": "python3"
  },
  "language_info": {
   "codemirror_mode": {
    "name": "ipython",
    "version": 3
   },
   "file_extension": ".py",
   "mimetype": "text/x-python",
   "name": "python",
   "nbconvert_exporter": "python",
   "pygments_lexer": "ipython3",
   "version": "3.14.0"
  }
 },
 "nbformat": 4,
 "nbformat_minor": 5
}
