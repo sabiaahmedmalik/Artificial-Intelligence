{
 "cells": [
  {
   "cell_type": "code",
   "execution_count": 6,
   "id": "3c3745a7",
   "metadata": {},
   "outputs": [
    {
     "name": "stdout",
     "output_type": "stream",
     "text": [
      "Name: Perfect\n",
      "Description: Romantic song\n",
      "Price: $1.2\n",
      "Playing Perfect by Ed Sheeran\n",
      "Name: Interstellar\n",
      "Description: Sci-fi movie\n",
      "Price: $10\n",
      "Trailer of Interstellar featuring Matthew McConaughey, Anne Hathaway\n",
      "Name: The Alchemist\n",
      "Description: Inspirational novel\n",
      "Price: $6.5\n",
      "Preview of 'The Alchemist' by Paulo Coelho\n",
      "Genre: Fiction, Pages: 208\n"
     ]
    }
   ],
   "source": [
    "class Item:\n",
    "    def __init__(self, name, description, price):\n",
    "        self.name = name\n",
    "        self.description = description\n",
    "        self.price = price\n",
    "\n",
    "    def viewFullDescription(self):\n",
    "        print(f\"Name: {self.name}\")\n",
    "        print(f\"Description: {self.description}\")\n",
    "        print(f\"Price: ${self.price}\")\n",
    "\n",
    "    def addToShoppingBasket(self):\n",
    "        print(f\"{self.name} added to basket.\")\n",
    "\n",
    "    def removeFromShoppingBasket(self):\n",
    "        print(f\"{self.name} removed from basket.\")\n",
    "\n",
    "\n",
    "class MP3(Item):\n",
    "    def __init__(self, name, description, price, artist, duration):\n",
    "        super().__init__(name, description, price)\n",
    "        self.artist = artist\n",
    "        self.duration = duration\n",
    "\n",
    "    def play(self):\n",
    "        print(f\"Playing {self.name} by {self.artist}\")\n",
    "\n",
    "    def download(self):\n",
    "        print(f\"Downloading {self.name}...\")\n",
    "\n",
    "\n",
    "class DVD(Item):\n",
    "    def __init__(self, name, description, price, certificate, duration, actors):\n",
    "        super().__init__(name, description, price)\n",
    "        self.certificate = certificate\n",
    "        self.duration = duration\n",
    "        self.actors = actors\n",
    "\n",
    "    def viewTrailer(self):\n",
    "        print(f\"Trailer of {self.name} featuring {', '.join(self.actors)}\")\n",
    "\n",
    "\n",
    "class Book(Item):\n",
    "    def __init__(self, name, description, price, author, pages, genre):\n",
    "        super().__init__(name, description, price)\n",
    "        self.author = author\n",
    "        self.pages = pages\n",
    "        self.genre = genre\n",
    "\n",
    "    def previewContent(self):\n",
    "        print(f\"Preview of '{self.name}' by {self.author}\")\n",
    "        print(f\"Genre: {self.genre}, Pages: {self.pages}\")\n",
    "\n",
    "\n",
    "mp3 = MP3(\"Perfect\", \"Romantic song\", 1.2, \"Ed Sheeran\", 4)\n",
    "dvd = DVD(\"Interstellar\", \"Sci-fi movie\", 10, \"PG-13\", 169, [\"Matthew McConaughey\", \"Anne Hathaway\"])\n",
    "book = Book(\"The Alchemist\", \"Inspirational novel\", 6.5, \"Paulo Coelho\", 208, \"Fiction\")\n",
    "\n",
    "mp3.viewFullDescription()\n",
    "mp3.play()\n",
    "dvd.viewFullDescription()\n",
    "dvd.viewTrailer()\n",
    "book.viewFullDescription()\n",
    "book.previewContent()"
   ]
  },
  {
   "cell_type": "code",
   "execution_count": 4,
   "id": "308a2262",
   "metadata": {},
   "outputs": [
    {
     "name": "stdout",
     "output_type": "stream",
     "text": [
      "\n",
      "--- Employee Details ---\n",
      "Name: sabia\n",
      "Age: 19\n",
      "Designation: hitec\n",
      "Salary: 20000.0\n"
     ]
    }
   ],
   "source": [
    "\n",
    "class Person:\n",
    "    def __init__(self, name, age):\n",
    "        self.name = name\n",
    "        self.age = age\n",
    "\n",
    "\n",
    "\n",
    "class Job:\n",
    "    def __init__(self, designation, salary):\n",
    "        self.designation = designation\n",
    "        self.salary = salary\n",
    "\n",
    "\n",
    "\n",
    "class Employee(Person, Job):\n",
    "    def __init__(self, name, age, designation, salary):\n",
    "        Person.__init__(self, name, age)\n",
    "        Job.__init__(self, designation, salary)\n",
    "\n",
    "    def display_details(self):\n",
    "        print(\"\\n--- Employee Details ---\")\n",
    "        print(\"Name:\", self.name)\n",
    "        print(\"Age:\", self.age)\n",
    "        print(\"Designation:\", self.designation)\n",
    "        print(\"Salary:\", self.salary)\n",
    "\n",
    "\n",
    "\n",
    "name = input(\"Enter employee name: \")\n",
    "age = int(input(\"Enter employee age: \"))\n",
    "designation = input(\"Enter employee designation: \")\n",
    "salary = float(input(\"Enter employee salary: \"))\n",
    "\n",
    "\n",
    "emp = Employee(name, age, designation, salary)\n",
    "\n",
    "\n",
    "emp.display_details()\n"
   ]
  },
  {
   "cell_type": "code",
   "execution_count": 3,
   "id": "7bf870af",
   "metadata": {},
   "outputs": [
    {
     "name": "stdout",
     "output_type": "stream",
     "text": [
      "5.0 raised to the power 6 is: 15625.0\n"
     ]
    }
   ],
   "source": [
    "class Power:\n",
    "    def __init__(self, x, n):\n",
    "        self.x = x\n",
    "        self.n = n\n",
    "\n",
    "    def compute(self):\n",
    "        result = 1\n",
    "        if self.n > 0:\n",
    "            for i in range(self.n):\n",
    "                result *= self.x\n",
    "        elif self.n < 0:\n",
    "            for i in range(-self.n):\n",
    "                result *= self.x\n",
    "            result = 1 / result\n",
    "        else:\n",
    "            result = 1\n",
    "        return result\n",
    "\n",
    "\n",
    "x = float(input(\"Enter base number (x): \"))\n",
    "n = int(input(\"Enter power (n): \"))\n",
    "\n",
    "p = Power(x, n)\n",
    "print(f\"{x} raised to the power {n} is:\", p.compute())\n",
    "\n"
   ]
  },
  {
   "cell_type": "code",
   "execution_count": 2,
   "id": "3ee4b685",
   "metadata": {},
   "outputs": [
    {
     "name": "stdout",
     "output_type": "stream",
     "text": [
      "Area of Circle: 153.93791\n",
      "Perimeter of Circle: 43.98226\n"
     ]
    }
   ],
   "source": [
    "class Circle:\n",
    "    def __init__(self, radius):\n",
    "        self.radius = radius\n",
    "\n",
    "    def area(self):\n",
    "        return 3.14159 * (self.radius ** 2)\n",
    "\n",
    "    def perimeter(self):\n",
    "        return 2 * 3.14159 * self.radius\n",
    "\n",
    "\n",
    "r = float(input(\"Enter the radius of the circle: \"))\n",
    "c = Circle(r)\n",
    "print(\"Area of Circle:\", c.area())\n",
    "print(\"Perimeter of Circle:\", c.perimeter())\n"
   ]
  }
 ],
 "metadata": {
  "kernelspec": {
   "display_name": "Python 3",
   "language": "python",
   "name": "python3"
  },
  "language_info": {
   "codemirror_mode": {
    "name": "ipython",
    "version": 3
   },
   "file_extension": ".py",
   "mimetype": "text/x-python",
   "name": "python",
   "nbconvert_exporter": "python",
   "pygments_lexer": "ipython3",
   "version": "3.14.0"
  }
 },
 "nbformat": 4,
 "nbformat_minor": 5
}
