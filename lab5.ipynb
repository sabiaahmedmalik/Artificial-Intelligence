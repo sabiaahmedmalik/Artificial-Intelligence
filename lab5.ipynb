{
 "cells": [
  {
   "cell_type": "code",
   "execution_count": 1,
   "id": "51cdd6a8",
   "metadata": {},
   "outputs": [
    {
     "name": "stdout",
     "output_type": "stream",
     "text": [
      "Original flattened array:\n",
      " [[0 1]\n",
      " [2 3]]\n",
      "Maximum value of the above flattened array: 3\n",
      "Minimum value of the above flattened array: 0\n"
     ]
    }
   ],
   "source": [
    "import numpy as np\n",
    "\n",
    "arr = np.array([[0, 1], [2, 3]])\n",
    "print(\"Original flattened array:\\n\", arr)\n",
    "\n",
    "flat = arr.flatten()\n",
    "print(\"Maximum value of the above flattened array:\", flat.max())\n",
    "print(\"Minimum value of the above flattened array:\", flat.min())\n"
   ]
  },
  {
   "cell_type": "code",
   "execution_count": 2,
   "id": "ac30b6f1",
   "metadata": {},
   "outputs": [
    {
     "name": "stdout",
     "output_type": "stream",
     "text": [
      "3x3 Matrix with values from 2 to 10:\n",
      " [[ 2  3  4]\n",
      " [ 5  6  7]\n",
      " [ 8  9 10]]\n"
     ]
    }
   ],
   "source": [
    "import numpy as np\n",
    "\n",
    "matrix = np.arange(2, 11).reshape(3, 3)\n",
    "print(\"3x3 Matrix with values from 2 to 10:\\n\", matrix)\n"
   ]
  },
  {
   "cell_type": "code",
   "execution_count": 3,
   "id": "3a4499c1",
   "metadata": {},
   "outputs": [
    {
     "name": "stdout",
     "output_type": "stream",
     "text": [
      "Original array: [1 2 3 4]\n",
      "Array converted to a float type: [1. 2. 3. 4.]\n"
     ]
    }
   ],
   "source": [
    "import numpy as np\n",
    "\n",
    "arr = np.array([1, 2, 3, 4])\n",
    "print(\"Original array:\", arr)\n",
    "\n",
    "float_arr = arr.astype(float)\n",
    "print(\"Array converted to a float type:\", float_arr)\n"
   ]
  },
  {
   "cell_type": "code",
   "execution_count": 4,
   "id": "16917a2b",
   "metadata": {},
   "outputs": [
    {
     "name": "stdout",
     "output_type": "stream",
     "text": [
      "Matrix A:\n",
      " [[1 2]\n",
      " [0 1]]\n",
      "Matrix B:\n",
      " [[2 1]\n",
      " [1 0]]\n",
      "Result of A x B:\n",
      " [[4 1]\n",
      " [1 0]]\n",
      "Transpose of the resultant matrix:\n",
      " [[4 1]\n",
      " [1 0]]\n"
     ]
    }
   ],
   "source": [
    "import numpy as np\n",
    "\n",
    "A = np.array([[1, 2], [0, 1]])\n",
    "B = np.array([[2, 1], [1, 0]])\n",
    "\n",
    "result = np.dot(A, B)\n",
    "transpose = result.T\n",
    "\n",
    "print(\"Matrix A:\\n\", A)\n",
    "print(\"Matrix B:\\n\", B)\n",
    "print(\"Result of A x B:\\n\", result)\n",
    "print(\"Transpose of the resultant matrix:\\n\", transpose)\n",
    "\n"
   ]
  },
  {
   "cell_type": "code",
   "execution_count": 5,
   "id": "b39ee4ba",
   "metadata": {},
   "outputs": [
    {
     "name": "stdout",
     "output_type": "stream",
     "text": [
      "Original Matrix:\n",
      " [[ 6  1  1  3]\n",
      " [ 4 -2  5  1]\n",
      " [ 2  8  7  6]\n",
      " [ 3  1  9  7]]\n",
      "Inverse of Matrix:\n",
      " [[ 0.13368984  0.10695187  0.02139037 -0.09090909]\n",
      " [-0.00229183  0.02673797  0.14820474 -0.12987013]\n",
      " [-0.12987013  0.18181818  0.06493506 -0.02597403]\n",
      " [ 0.11000764 -0.28342246 -0.11382735  0.23376623]]\n"
     ]
    }
   ],
   "source": [
    "import numpy as np\n",
    "\n",
    "matrix = np.array([\n",
    "    [6, 1, 1, 3],\n",
    "    [4, -2, 5, 1],\n",
    "    [2, 8, 7, 6],\n",
    "    [3, 1, 9, 7]\n",
    "])\n",
    "\n",
    "inverse_matrix = np.linalg.inv(matrix)\n",
    "\n",
    "print(\"Original Matrix:\\n\", matrix)\n",
    "print(\"Inverse of Matrix:\\n\", inverse_matrix)\n"
   ]
  }
 ],
 "metadata": {
  "kernelspec": {
   "display_name": "Python 3",
   "language": "python",
   "name": "python3"
  },
  "language_info": {
   "codemirror_mode": {
    "name": "ipython",
    "version": 3
   },
   "file_extension": ".py",
   "mimetype": "text/x-python",
   "name": "python",
   "nbconvert_exporter": "python",
   "pygments_lexer": "ipython3",
   "version": "3.14.0"
  }
 },
 "nbformat": 4,
 "nbformat_minor": 5
}
